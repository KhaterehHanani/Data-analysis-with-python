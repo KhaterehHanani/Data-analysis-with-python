{
 "cells": [
  {
   "cell_type": "code",
   "execution_count": 4,
   "id": "b9b76f84",
   "metadata": {},
   "outputs": [],
   "source": [
    "import pandas as pd\n",
    "df=pd.read_csv('Downloads/laliga.csv')"
   ]
  },
  {
   "cell_type": "code",
   "execution_count": 4,
   "id": "81f0e61f",
   "metadata": {},
   "outputs": [
    {
     "name": "stdout",
     "output_type": "stream",
     "text": [
      "<class 'pandas.core.frame.DataFrame'>\n",
      "RangeIndex: 556 entries, 0 to 555\n",
      "Data columns (total 62 columns):\n",
      " #   Column                                 Non-Null Count  Dtype  \n",
      "---  ------                                 --------------  -----  \n",
      " 0   Team                                   556 non-null    object \n",
      " 1   Position                               556 non-null    object \n",
      " 2   Shirt number                           526 non-null    float64\n",
      " 3   Name                                   556 non-null    object \n",
      " 4   Minutes played                         556 non-null    float64\n",
      " 5   Games played                           556 non-null    int64  \n",
      " 6   Percentage of games played             556 non-null    object \n",
      " 7   Full games played                      556 non-null    int64  \n",
      " 8   Percentage of full games played        556 non-null    object \n",
      " 9   Games started                          556 non-null    int64  \n",
      " 10  Percentage of games started            556 non-null    object \n",
      " 11  Games where substituted                556 non-null    int64  \n",
      " 12  Percentage of games where substituted  556 non-null    object \n",
      " 13  Yellow Cards                           556 non-null    int64  \n",
      " 14  Red Cards                              556 non-null    int64  \n",
      " 15  Second Yellows                         556 non-null    int64  \n",
      " 16  Goals scored                           556 non-null    int64  \n",
      " 17  Penalties scored                       556 non-null    int64  \n",
      " 18  Own goals                              556 non-null    int64  \n",
      " 19  Goals conceded while player on pitch   556 non-null    int64  \n",
      " 20  Tackles                                556 non-null    int64  \n",
      " 21  Interceptions                          556 non-null    int64  \n",
      " 22  Recoveries                             556 non-null    int64  \n",
      " 23  Clearances                             556 non-null    int64  \n",
      " 24  Successful tackles                     556 non-null    int64  \n",
      " 25  Unssuccessful tackles                  556 non-null    int64  \n",
      " 26  Last man                               556 non-null    int64  \n",
      " 27  Successful duels                       556 non-null    int64  \n",
      " 28  Duels lost                             556 non-null    int64  \n",
      " 29  Successful aerial challenges           556 non-null    int64  \n",
      " 30  Unsuccessful aerial challenges         556 non-null    int64  \n",
      " 31  Offsides                               556 non-null    int64  \n",
      " 32  Fouls suffered                         556 non-null    int64  \n",
      " 33  Fouls committed                        556 non-null    int64  \n",
      " 34  Penalties won                          556 non-null    int64  \n",
      " 35  Penalties given away                   556 non-null    int64  \n",
      " 36  Handballs committed                    556 non-null    int64  \n",
      " 37  Fouls committed per card               556 non-null    int64  \n",
      " 38  Shots                                  556 non-null    int64  \n",
      " 39  Shots on target                        556 non-null    int64  \n",
      " 40  Assists                                556 non-null    int64  \n",
      " 41  Successful dribbles                    556 non-null    int64  \n",
      " 42  Unsuccessful dribbles                  556 non-null    int64  \n",
      " 43  Goals scored.1                         556 non-null    int64  \n",
      " 44  From inside the area                   556 non-null    int64  \n",
      " 45  From outside the area                  556 non-null    int64  \n",
      " 46  Goals with left foot                   556 non-null    int64  \n",
      " 47  Goals with right foot                  556 non-null    int64  \n",
      " 48  Penalties scored.1                     556 non-null    int64  \n",
      " 49  Goals scored with header               556 non-null    int64  \n",
      " 50  Goals from set piece                   556 non-null    int64  \n",
      " 51  Crosses                                556 non-null    int64  \n",
      " 52  Corners                                556 non-null    int64  \n",
      " 53  Tackles.1                              556 non-null    int64  \n",
      " 54  Duels                                  556 non-null    int64  \n",
      " 55  Man-to-man duels                       556 non-null    int64  \n",
      " 56  Aerial duels                           556 non-null    int64  \n",
      " 57  Passes                                 556 non-null    float64\n",
      " 58  Short passes                           556 non-null    float64\n",
      " 59  Long passes                            556 non-null    int64  \n",
      " 60  Through balls                          556 non-null    int64  \n",
      " 61  Goals scored per attempt               556 non-null    int64  \n",
      "dtypes: float64(4), int64(51), object(7)\n",
      "memory usage: 269.4+ KB\n"
     ]
    }
   ],
   "source": [
    "df.info()"
   ]
  },
  {
   "cell_type": "code",
   "execution_count": 11,
   "id": "ceea1099",
   "metadata": {},
   "outputs": [],
   "source": [
    "gbo=df.groupby(\"Team\")"
   ]
  },
  {
   "cell_type": "code",
   "execution_count": 12,
   "id": "683cdcc6",
   "metadata": {},
   "outputs": [
    {
     "data": {
      "text/plain": [
       "<pandas.core.groupby.generic.DataFrameGroupBy object at 0x0000027041B7EB10>"
      ]
     },
     "execution_count": 12,
     "metadata": {},
     "output_type": "execute_result"
    }
   ],
   "source": [
    "gbo"
   ]
  },
  {
   "cell_type": "code",
   "execution_count": 16,
   "id": "050623d8",
   "metadata": {},
   "outputs": [
    {
     "data": {
      "text/plain": [
       "20"
      ]
     },
     "execution_count": 16,
     "metadata": {},
     "output_type": "execute_result"
    }
   ],
   "source": [
    "gbo.ngroups"
   ]
  },
  {
   "cell_type": "code",
   "execution_count": 19,
   "id": "7e1a47de",
   "metadata": {},
   "outputs": [
    {
     "data": {
      "text/plain": [
       "Team\n",
       "Athletic Club         2\n",
       "Atlético de Madrid    1\n",
       "CD Leganés            1\n",
       "D. Alavés             1\n",
       "FC Barcelona          1\n",
       "Getafe CF             2\n",
       "Girona FC             2\n",
       "Levante UD            2\n",
       "R. Valladolid CF      0\n",
       "RC Celta              2\n",
       "RCD Espanyol          1\n",
       "Rayo Vallecano        2\n",
       "Real Betis            1\n",
       "Real Madrid           1\n",
       "Real Sociedad         1\n",
       "SD Eibar              1\n",
       "SD Huesca             2\n",
       "Sevilla FC            2\n",
       "Valencia CF           1\n",
       "Villarreal CF         2\n",
       "Name: Red Cards, dtype: int64"
      ]
     },
     "execution_count": 19,
     "metadata": {},
     "output_type": "execute_result"
    }
   ],
   "source": [
    "gbo[\"Red Cards\"].max()"
   ]
  },
  {
   "cell_type": "code",
   "execution_count": 21,
   "id": "6139f376",
   "metadata": {},
   "outputs": [
    {
     "data": {
      "text/plain": [
       "Team\n",
       "Rayo Vallecano    8\n",
       "Levante UD        7\n",
       "Getafe CF         6\n",
       "RC Celta          6\n",
       "Real Madrid       6\n",
       "Name: Red Cards, dtype: int64"
      ]
     },
     "execution_count": 21,
     "metadata": {},
     "output_type": "execute_result"
    }
   ],
   "source": [
    "gbo[\"Red Cards\"].sum().nlargest(5)"
   ]
  },
  {
   "cell_type": "code",
   "execution_count": 22,
   "id": "c47f336e",
   "metadata": {},
   "outputs": [
    {
     "data": {
      "text/plain": [
       "0      Goalkeeper\n",
       "1      Goalkeeper\n",
       "2      Goalkeeper\n",
       "3      Goalkeeper\n",
       "4        Defender\n",
       "          ...    \n",
       "551    Midfielder\n",
       "552    Midfielder\n",
       "553       Forward\n",
       "554       Forward\n",
       "555       Forward\n",
       "Name: Position, Length: 556, dtype: object"
      ]
     },
     "execution_count": 22,
     "metadata": {},
     "output_type": "execute_result"
    }
   ],
   "source": [
    "df.Position\n"
   ]
  },
  {
   "cell_type": "code",
   "execution_count": 23,
   "id": "ab1d04b3",
   "metadata": {},
   "outputs": [],
   "source": [
    "gbo2=df.groupby(\"Position\")"
   ]
  },
  {
   "cell_type": "code",
   "execution_count": 24,
   "id": "9eb2256d",
   "metadata": {},
   "outputs": [
    {
     "data": {
      "text/plain": [
       "Position\n",
       "Defender      102.610811\n",
       "Forward        23.787234\n",
       "Goalkeeper    242.157895\n",
       "Midfielder     60.445455\n",
       "Name: Long passes, dtype: float64"
      ]
     },
     "execution_count": 24,
     "metadata": {},
     "output_type": "execute_result"
    }
   ],
   "source": [
    "gbo2[\"Long passes\"].mean()"
   ]
  },
  {
   "cell_type": "code",
   "execution_count": 5,
   "id": "641bb853",
   "metadata": {},
   "outputs": [
    {
     "data": {
      "text/plain": [
       "Shirt number\n",
       "5.0     18\n",
       "14.0    18\n",
       "17.0    24\n",
       "12.0    29\n",
       "22.0    31\n",
       "11.0    38\n",
       "19.0    42\n",
       "7.0     57\n",
       "10.0    59\n",
       "9.0     86\n",
       "Name: Goals scored per attempt, dtype: int64"
      ]
     },
     "execution_count": 5,
     "metadata": {},
     "output_type": "execute_result"
    }
   ],
   "source": [
    "gbo3=df.groupby(\"Shirt number\")\n",
    "gbo3[\"Goals scored per attempt\"].sum().nlargest(10).sort_values(ascending=True)"
   ]
  },
  {
   "cell_type": "code",
   "execution_count": 6,
   "id": "4f2f59d1",
   "metadata": {},
   "outputs": [
    {
     "data": {
      "text/plain": [
       "Shirt number\n",
       "9.0     86\n",
       "10.0    59\n",
       "7.0     57\n",
       "19.0    42\n",
       "11.0    38\n",
       "22.0    31\n",
       "12.0    29\n",
       "17.0    24\n",
       "5.0     18\n",
       "14.0    18\n",
       "Name: Goals scored per attempt, dtype: int64"
      ]
     },
     "execution_count": 6,
     "metadata": {},
     "output_type": "execute_result"
    }
   ],
   "source": [
    "\n",
    "s=gbo3[\"Goals scored per attempt\"].sum().nlargest(10)\n",
    "s\n"
   ]
  },
  {
   "cell_type": "code",
   "execution_count": null,
   "id": "5e270049",
   "metadata": {},
   "outputs": [],
   "source": []
  }
 ],
 "metadata": {
  "kernelspec": {
   "display_name": "Python 3 (ipykernel)",
   "language": "python",
   "name": "python3"
  },
  "language_info": {
   "codemirror_mode": {
    "name": "ipython",
    "version": 3
   },
   "file_extension": ".py",
   "mimetype": "text/x-python",
   "name": "python",
   "nbconvert_exporter": "python",
   "pygments_lexer": "ipython3",
   "version": "3.11.5"
  }
 },
 "nbformat": 4,
 "nbformat_minor": 5
}
