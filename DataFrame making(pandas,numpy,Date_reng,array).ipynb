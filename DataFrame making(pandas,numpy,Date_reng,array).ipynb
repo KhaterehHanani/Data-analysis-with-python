{
 "cells": [
  {
   "cell_type": "code",
   "execution_count": 9,
   "id": "7b5be399",
   "metadata": {},
   "outputs": [],
   "source": [
    "import pandas as pd\n",
    "import numpy as np"
   ]
  },
  {
   "cell_type": "code",
   "execution_count": 10,
   "id": "767cf241",
   "metadata": {},
   "outputs": [
    {
     "data": {
      "text/html": [
       "<div>\n",
       "<style scoped>\n",
       "    .dataframe tbody tr th:only-of-type {\n",
       "        vertical-align: middle;\n",
       "    }\n",
       "\n",
       "    .dataframe tbody tr th {\n",
       "        vertical-align: top;\n",
       "    }\n",
       "\n",
       "    .dataframe thead th {\n",
       "        text-align: right;\n",
       "    }\n",
       "</style>\n",
       "<table border=\"1\" class=\"dataframe\">\n",
       "  <thead>\n",
       "    <tr style=\"text-align: right;\">\n",
       "      <th></th>\n",
       "      <th>a</th>\n",
       "      <th>b</th>\n",
       "      <th>c</th>\n",
       "      <th>d</th>\n",
       "    </tr>\n",
       "  </thead>\n",
       "  <tbody>\n",
       "    <tr>\n",
       "      <th>2021-01-01</th>\n",
       "      <td>0.541175</td>\n",
       "      <td>1.018385</td>\n",
       "      <td>0.370833</td>\n",
       "      <td>-0.615326</td>\n",
       "    </tr>\n",
       "    <tr>\n",
       "      <th>2021-01-02</th>\n",
       "      <td>-0.451953</td>\n",
       "      <td>-0.573988</td>\n",
       "      <td>1.382935</td>\n",
       "      <td>-0.120240</td>\n",
       "    </tr>\n",
       "    <tr>\n",
       "      <th>2021-01-03</th>\n",
       "      <td>0.791841</td>\n",
       "      <td>-0.174764</td>\n",
       "      <td>-0.035185</td>\n",
       "      <td>0.524474</td>\n",
       "    </tr>\n",
       "    <tr>\n",
       "      <th>2021-01-04</th>\n",
       "      <td>-0.275955</td>\n",
       "      <td>-2.091906</td>\n",
       "      <td>0.992510</td>\n",
       "      <td>1.382408</td>\n",
       "    </tr>\n",
       "    <tr>\n",
       "      <th>2021-01-05</th>\n",
       "      <td>0.150982</td>\n",
       "      <td>-0.928905</td>\n",
       "      <td>-0.664206</td>\n",
       "      <td>-0.328744</td>\n",
       "    </tr>\n",
       "    <tr>\n",
       "      <th>2021-01-06</th>\n",
       "      <td>1.026350</td>\n",
       "      <td>0.829721</td>\n",
       "      <td>0.686656</td>\n",
       "      <td>-1.774101</td>\n",
       "    </tr>\n",
       "  </tbody>\n",
       "</table>\n",
       "</div>"
      ],
      "text/plain": [
       "                   a         b         c         d\n",
       "2021-01-01  0.541175  1.018385  0.370833 -0.615326\n",
       "2021-01-02 -0.451953 -0.573988  1.382935 -0.120240\n",
       "2021-01-03  0.791841 -0.174764 -0.035185  0.524474\n",
       "2021-01-04 -0.275955 -2.091906  0.992510  1.382408\n",
       "2021-01-05  0.150982 -0.928905 -0.664206 -0.328744\n",
       "2021-01-06  1.026350  0.829721  0.686656 -1.774101"
      ]
     },
     "execution_count": 10,
     "metadata": {},
     "output_type": "execute_result"
    }
   ],
   "source": [
    "dates=pd.date_range(\"20210101\",periods=6)\n",
    "df=pd.DataFrame(np.random.randn(6,4),index=dates,columns=['a','b','c','d'])\n",
    "df"
   ]
  },
  {
   "cell_type": "code",
   "execution_count": 11,
   "id": "b7ce173b",
   "metadata": {},
   "outputs": [
    {
     "data": {
      "text/plain": [
       "['ali', 'sara', 'dana', 'dara']"
      ]
     },
     "execution_count": 11,
     "metadata": {},
     "output_type": "execute_result"
    }
   ],
   "source": [
    "name=['ali','sara','dana','dara']\n",
    "name"
   ]
  },
  {
   "cell_type": "code",
   "execution_count": 13,
   "id": "bba66bad",
   "metadata": {},
   "outputs": [
    {
     "data": {
      "text/plain": [
       "array([[-0.48093094,  0.97862491,  0.71188175, -0.17846896],\n",
       "       [ 0.04402313,  1.66727758,  0.07675552,  1.11235407],\n",
       "       [-1.38233747,  0.93268973,  1.7326457 ,  1.12483794],\n",
       "       [-0.00291113, -1.6785747 , -0.18830875, -0.56018887]])"
      ]
     },
     "execution_count": 13,
     "metadata": {},
     "output_type": "execute_result"
    }
   ],
   "source": [
    "np.random.randn(4,4)"
   ]
  },
  {
   "cell_type": "code",
   "execution_count": 16,
   "id": "fac63b9e",
   "metadata": {},
   "outputs": [],
   "source": [
    "df=pd.DataFrame(np.random.randn(4,4))"
   ]
  },
  {
   "cell_type": "code",
   "execution_count": 29,
   "id": "f2b94191",
   "metadata": {},
   "outputs": [
    {
     "name": "stdout",
     "output_type": "stream",
     "text": [
      "   random_numbers\n",
      "0              19\n",
      "1               9\n",
      "2              17\n",
      "3               5\n"
     ]
    }
   ],
   "source": [
    "data = np.random.randint(5,20,size=(4))\n",
    "df = pd.DataFrame(data, columns=['random_numbers'])\n",
    "\n",
    "print(df)"
   ]
  },
  {
   "cell_type": "code",
   "execution_count": 35,
   "id": "477d0520",
   "metadata": {},
   "outputs": [
    {
     "name": "stdout",
     "output_type": "stream",
     "text": [
      "      math  history  physics\n",
      "ali      5       11       14\n",
      "sara     6        9        5\n",
      "dana    19       10       11\n",
      "dara    12        5       10\n"
     ]
    }
   ],
   "source": [
    "name=['ali','sara','dana','dara']\n",
    "data = np.random.randint(5,20,size=(4,3))\n",
    "df = pd.DataFrame(data,index=name ,columns=['math', 'history', 'physics'])\n",
    "\n",
    "print(df)"
   ]
  },
  {
   "cell_type": "code",
   "execution_count": 36,
   "id": "73baf042",
   "metadata": {},
   "outputs": [
    {
     "name": "stdout",
     "output_type": "stream",
     "text": [
      "      math  history  physics\n",
      "ali     19       13       12\n",
      "sara     7       16       15\n",
      "dana    12        5       11\n",
      "dara    17       15       18\n"
     ]
    }
   ],
   "source": [
    "name=['ali','sara','dana','dara']\n",
    "column=['math', 'history', 'physics']\n",
    "data = np.random.randint(5,20,size=(4,3))\n",
    "df = pd.DataFrame(data,index=name ,columns=column)\n",
    "\n",
    "print(df)"
   ]
  },
  {
   "cell_type": "code",
   "execution_count": 37,
   "id": "c6e204a4",
   "metadata": {},
   "outputs": [
    {
     "data": {
      "text/html": [
       "<div>\n",
       "<style scoped>\n",
       "    .dataframe tbody tr th:only-of-type {\n",
       "        vertical-align: middle;\n",
       "    }\n",
       "\n",
       "    .dataframe tbody tr th {\n",
       "        vertical-align: top;\n",
       "    }\n",
       "\n",
       "    .dataframe thead th {\n",
       "        text-align: right;\n",
       "    }\n",
       "</style>\n",
       "<table border=\"1\" class=\"dataframe\">\n",
       "  <thead>\n",
       "    <tr style=\"text-align: right;\">\n",
       "      <th></th>\n",
       "      <th>math</th>\n",
       "      <th>history</th>\n",
       "      <th>physics</th>\n",
       "    </tr>\n",
       "  </thead>\n",
       "  <tbody>\n",
       "    <tr>\n",
       "      <th>count</th>\n",
       "      <td>4.000000</td>\n",
       "      <td>4.00000</td>\n",
       "      <td>4.000000</td>\n",
       "    </tr>\n",
       "    <tr>\n",
       "      <th>mean</th>\n",
       "      <td>13.750000</td>\n",
       "      <td>12.25000</td>\n",
       "      <td>14.000000</td>\n",
       "    </tr>\n",
       "    <tr>\n",
       "      <th>std</th>\n",
       "      <td>5.377422</td>\n",
       "      <td>4.99166</td>\n",
       "      <td>3.162278</td>\n",
       "    </tr>\n",
       "    <tr>\n",
       "      <th>min</th>\n",
       "      <td>7.000000</td>\n",
       "      <td>5.00000</td>\n",
       "      <td>11.000000</td>\n",
       "    </tr>\n",
       "    <tr>\n",
       "      <th>25%</th>\n",
       "      <td>10.750000</td>\n",
       "      <td>11.00000</td>\n",
       "      <td>11.750000</td>\n",
       "    </tr>\n",
       "    <tr>\n",
       "      <th>50%</th>\n",
       "      <td>14.500000</td>\n",
       "      <td>14.00000</td>\n",
       "      <td>13.500000</td>\n",
       "    </tr>\n",
       "    <tr>\n",
       "      <th>75%</th>\n",
       "      <td>17.500000</td>\n",
       "      <td>15.25000</td>\n",
       "      <td>15.750000</td>\n",
       "    </tr>\n",
       "    <tr>\n",
       "      <th>max</th>\n",
       "      <td>19.000000</td>\n",
       "      <td>16.00000</td>\n",
       "      <td>18.000000</td>\n",
       "    </tr>\n",
       "  </tbody>\n",
       "</table>\n",
       "</div>"
      ],
      "text/plain": [
       "            math   history    physics\n",
       "count   4.000000   4.00000   4.000000\n",
       "mean   13.750000  12.25000  14.000000\n",
       "std     5.377422   4.99166   3.162278\n",
       "min     7.000000   5.00000  11.000000\n",
       "25%    10.750000  11.00000  11.750000\n",
       "50%    14.500000  14.00000  13.500000\n",
       "75%    17.500000  15.25000  15.750000\n",
       "max    19.000000  16.00000  18.000000"
      ]
     },
     "execution_count": 37,
     "metadata": {},
     "output_type": "execute_result"
    }
   ],
   "source": [
    "df.describe()"
   ]
  },
  {
   "cell_type": "code",
   "execution_count": 43,
   "id": "dc62ab43",
   "metadata": {},
   "outputs": [
    {
     "data": {
      "text/plain": [
       "13.75"
      ]
     },
     "execution_count": 43,
     "metadata": {},
     "output_type": "execute_result"
    }
   ],
   "source": [
    "df.math.mean()"
   ]
  },
  {
   "cell_type": "code",
   "execution_count": 44,
   "id": "176e2890",
   "metadata": {},
   "outputs": [
    {
     "data": {
      "text/plain": [
       "math       13.75\n",
       "history    12.25\n",
       "physics    14.00\n",
       "dtype: float64"
      ]
     },
     "execution_count": 44,
     "metadata": {},
     "output_type": "execute_result"
    }
   ],
   "source": [
    "df.mean()"
   ]
  },
  {
   "cell_type": "code",
   "execution_count": 45,
   "id": "07244b3f",
   "metadata": {},
   "outputs": [
    {
     "data": {
      "text/plain": [
       "13.75"
      ]
     },
     "execution_count": 45,
     "metadata": {},
     "output_type": "execute_result"
    }
   ],
   "source": [
    "df[\"math\"].mean()"
   ]
  },
  {
   "cell_type": "code",
   "execution_count": 46,
   "id": "94603d10",
   "metadata": {},
   "outputs": [],
   "source": [
    "df.to_csv('downloads/my-file.csv')"
   ]
  },
  {
   "cell_type": "code",
   "execution_count": 47,
   "id": "686b05e2",
   "metadata": {},
   "outputs": [],
   "source": [
    "df.to_excel('downloads/my-file.xlsx')"
   ]
  },
  {
   "cell_type": "code",
   "execution_count": 51,
   "id": "65fb9063",
   "metadata": {},
   "outputs": [],
   "source": [
    "ss=pd.read_csv('downloads/my-file.csv')"
   ]
  },
  {
   "cell_type": "code",
   "execution_count": 52,
   "id": "f60e8ab1",
   "metadata": {},
   "outputs": [
    {
     "data": {
      "text/html": [
       "<div>\n",
       "<style scoped>\n",
       "    .dataframe tbody tr th:only-of-type {\n",
       "        vertical-align: middle;\n",
       "    }\n",
       "\n",
       "    .dataframe tbody tr th {\n",
       "        vertical-align: top;\n",
       "    }\n",
       "\n",
       "    .dataframe thead th {\n",
       "        text-align: right;\n",
       "    }\n",
       "</style>\n",
       "<table border=\"1\" class=\"dataframe\">\n",
       "  <thead>\n",
       "    <tr style=\"text-align: right;\">\n",
       "      <th></th>\n",
       "      <th>Unnamed: 0</th>\n",
       "      <th>math</th>\n",
       "      <th>history</th>\n",
       "      <th>physics</th>\n",
       "    </tr>\n",
       "  </thead>\n",
       "  <tbody>\n",
       "    <tr>\n",
       "      <th>0</th>\n",
       "      <td>ali</td>\n",
       "      <td>19</td>\n",
       "      <td>13</td>\n",
       "      <td>12</td>\n",
       "    </tr>\n",
       "    <tr>\n",
       "      <th>1</th>\n",
       "      <td>sara</td>\n",
       "      <td>7</td>\n",
       "      <td>16</td>\n",
       "      <td>15</td>\n",
       "    </tr>\n",
       "    <tr>\n",
       "      <th>2</th>\n",
       "      <td>dana</td>\n",
       "      <td>12</td>\n",
       "      <td>5</td>\n",
       "      <td>11</td>\n",
       "    </tr>\n",
       "    <tr>\n",
       "      <th>3</th>\n",
       "      <td>dara</td>\n",
       "      <td>17</td>\n",
       "      <td>15</td>\n",
       "      <td>18</td>\n",
       "    </tr>\n",
       "  </tbody>\n",
       "</table>\n",
       "</div>"
      ],
      "text/plain": [
       "  Unnamed: 0  math  history  physics\n",
       "0        ali    19       13       12\n",
       "1       sara     7       16       15\n",
       "2       dana    12        5       11\n",
       "3       dara    17       15       18"
      ]
     },
     "execution_count": 52,
     "metadata": {},
     "output_type": "execute_result"
    }
   ],
   "source": [
    "ss"
   ]
  },
  {
   "cell_type": "code",
   "execution_count": 63,
   "id": "92f154ea",
   "metadata": {
    "scrolled": true
   },
   "outputs": [],
   "source": [
    "#a=np.array(4,3)\n",
    "a=np.array([[19,13,12],[7,16,15],[12,5,11],[17,15,18]])"
   ]
  },
  {
   "cell_type": "code",
   "execution_count": 64,
   "id": "3f6c5202",
   "metadata": {},
   "outputs": [
    {
     "data": {
      "text/plain": [
       "array([[19, 13, 12],\n",
       "       [ 7, 16, 15],\n",
       "       [12,  5, 11],\n",
       "       [17, 15, 18]])"
      ]
     },
     "execution_count": 64,
     "metadata": {},
     "output_type": "execute_result"
    }
   ],
   "source": [
    "a"
   ]
  },
  {
   "cell_type": "code",
   "execution_count": 61,
   "id": "37999c27",
   "metadata": {},
   "outputs": [
    {
     "ename": "TypeError",
     "evalue": "'tuple' object is not callable",
     "output_type": "error",
     "traceback": [
      "\u001b[1;31m---------------------------------------------------------------------------\u001b[0m",
      "\u001b[1;31mTypeError\u001b[0m                                 Traceback (most recent call last)",
      "Cell \u001b[1;32mIn[61], line 1\u001b[0m\n\u001b[1;32m----> 1\u001b[0m a\u001b[38;5;241m.\u001b[39mshape()\n",
      "\u001b[1;31mTypeError\u001b[0m: 'tuple' object is not callable"
     ]
    }
   ],
   "source": [
    "a.shape()"
   ]
  },
  {
   "cell_type": "code",
   "execution_count": 6,
   "id": "bc8e2a3f",
   "metadata": {},
   "outputs": [],
   "source": [
    "import pandas as pd\n",
    "import numpy as np\n",
    "name=['ali','sara','dana','dara']\n",
    "column=['math', 'history', 'physics']\n",
    "data = np.array([[19,13,12],[7,16,15],[12,5,11],[17,15,18]])\n",
    "df = pd.DataFrame(data,index=name ,columns=column)\n"
   ]
  },
  {
   "cell_type": "code",
   "execution_count": 7,
   "id": "fcb4681a",
   "metadata": {},
   "outputs": [
    {
     "data": {
      "text/html": [
       "<div>\n",
       "<style scoped>\n",
       "    .dataframe tbody tr th:only-of-type {\n",
       "        vertical-align: middle;\n",
       "    }\n",
       "\n",
       "    .dataframe tbody tr th {\n",
       "        vertical-align: top;\n",
       "    }\n",
       "\n",
       "    .dataframe thead th {\n",
       "        text-align: right;\n",
       "    }\n",
       "</style>\n",
       "<table border=\"1\" class=\"dataframe\">\n",
       "  <thead>\n",
       "    <tr style=\"text-align: right;\">\n",
       "      <th></th>\n",
       "      <th>math</th>\n",
       "      <th>history</th>\n",
       "      <th>physics</th>\n",
       "    </tr>\n",
       "  </thead>\n",
       "  <tbody>\n",
       "    <tr>\n",
       "      <th>ali</th>\n",
       "      <td>19</td>\n",
       "      <td>13</td>\n",
       "      <td>12</td>\n",
       "    </tr>\n",
       "    <tr>\n",
       "      <th>sara</th>\n",
       "      <td>7</td>\n",
       "      <td>16</td>\n",
       "      <td>15</td>\n",
       "    </tr>\n",
       "    <tr>\n",
       "      <th>dana</th>\n",
       "      <td>12</td>\n",
       "      <td>5</td>\n",
       "      <td>11</td>\n",
       "    </tr>\n",
       "    <tr>\n",
       "      <th>dara</th>\n",
       "      <td>17</td>\n",
       "      <td>15</td>\n",
       "      <td>18</td>\n",
       "    </tr>\n",
       "  </tbody>\n",
       "</table>\n",
       "</div>"
      ],
      "text/plain": [
       "      math  history  physics\n",
       "ali     19       13       12\n",
       "sara     7       16       15\n",
       "dana    12        5       11\n",
       "dara    17       15       18"
      ]
     },
     "execution_count": 7,
     "metadata": {},
     "output_type": "execute_result"
    }
   ],
   "source": [
    "df"
   ]
  },
  {
   "cell_type": "code",
   "execution_count": null,
   "id": "936ce71c",
   "metadata": {},
   "outputs": [],
   "source": []
  }
 ],
 "metadata": {
  "kernelspec": {
   "display_name": "Python 3 (ipykernel)",
   "language": "python",
   "name": "python3"
  },
  "language_info": {
   "codemirror_mode": {
    "name": "ipython",
    "version": 3
   },
   "file_extension": ".py",
   "mimetype": "text/x-python",
   "name": "python",
   "nbconvert_exporter": "python",
   "pygments_lexer": "ipython3",
   "version": "3.11.5"
  }
 },
 "nbformat": 4,
 "nbformat_minor": 5
}
